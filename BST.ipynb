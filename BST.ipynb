{
 "cells": [
  {
   "cell_type": "code",
   "execution_count": 9,
   "metadata": {},
   "outputs": [],
   "source": [
    "class Node:\n",
    "    def __init__(self,data):\n",
    "        self.data = data\n",
    "        self.left = None\n",
    "        self.right = None\n",
    "        \n",
    "class BinaryTree:\n",
    "    def __init__(self):\n",
    "        self.root = None\n",
    "        \n",
    "    def add(self, data):\n",
    "        if self.root is None:\n",
    "            # The root does exist yet, create it\n",
    "            self.root = Node(data)\n",
    "        else:\n",
    "            # Find the right place and insert new value\n",
    "            self.add_recursive(self.root, data)\n",
    "    \n",
    "    def add_recursive(self,current_node,data):\n",
    "        if data<=current_node.data:\n",
    "            if current_node.left:\n",
    "                self.add_recursive(current_node.left,data)\n",
    "            else:\n",
    "                current_node.left = Node(data)\n",
    "        else:\n",
    "            # Go to the right\n",
    "            if current_node.right is None:\n",
    "                current_node.right = Node(data)\n",
    "            else:\n",
    "                self.add_recursive(current_node.right, data)\n",
    "\n",
    "                \n",
    "            "
   ]
  },
  {
   "cell_type": "code",
   "execution_count": 10,
   "metadata": {},
   "outputs": [],
   "source": [
    "b = BinaryTree()"
   ]
  },
  {
   "cell_type": "code",
   "execution_count": 11,
   "metadata": {},
   "outputs": [],
   "source": [
    "b.add(3)"
   ]
  },
  {
   "cell_type": "code",
   "execution_count": 12,
   "metadata": {},
   "outputs": [],
   "source": [
    "b.add(2)"
   ]
  },
  {
   "cell_type": "code",
   "execution_count": 16,
   "metadata": {},
   "outputs": [],
   "source": [
    "b.root.right"
   ]
  },
  {
   "cell_type": "code",
   "execution_count": 67,
   "metadata": {},
   "outputs": [],
   "source": [
    "#Traversal\n",
    "class Node:\n",
    "    def __init__(self,data):\n",
    "        self.data = data\n",
    "        self.left = None\n",
    "        self.right = None\n",
    "        \n",
    "class BinaryTree:\n",
    "    def __init__(self):\n",
    "        self.root = None\n",
    "        \n",
    "    def add(self, data):\n",
    "        if self.root is None:\n",
    "            # The root does exist yet, create it\n",
    "            self.root = Node(data)\n",
    "        else:\n",
    "            # Find the right place and insert new value\n",
    "            self.add_recursive(self.root, data)\n",
    "    \n",
    "    def add_recursive(self,current_node,data):\n",
    "        if data<=current_node.data:\n",
    "            if current_node.left:\n",
    "                self.add_recursive(current_node.left,data)\n",
    "            else:\n",
    "                current_node.left = Node(data)\n",
    "        else:\n",
    "            # Go to the right\n",
    "            if current_node.right is None:\n",
    "                current_node.right = Node(data)\n",
    "            else:\n",
    "                self.add_recursive(current_node.right, data)\n",
    "    #in order: left, root, right\n",
    "    def in_ot(self,root):\n",
    "        trav = []\n",
    "        if root:\n",
    "            trav += (self.in_ot(root.left))\n",
    "            trav.append(root.data)\n",
    "            trav += (self.in_ot(root.right))\n",
    "        return trav\n",
    "\n",
    "        #pre order: root, left, right\n",
    "    def pre_ot(self,root):\n",
    "        trav = []\n",
    "        if root:\n",
    "            trav.append(root.data)\n",
    "            trav += (self.pre_ot(root.left))        \n",
    "            trav += (self.pre_ot(root.right))\n",
    "        return trav\n",
    "        \n",
    "        #post order: left,  right, root\n",
    "    def post_ot(self,root):\n",
    "        trav = []\n",
    "        if root:\n",
    "            trav += (self.post_ot(root.left))        \n",
    "            trav += (self.post_ot(root.right))\n",
    "            trav.append(root.data)\n",
    "        return trav\n",
    "        \n",
    "\n"
   ]
  },
  {
   "cell_type": "code",
   "execution_count": 68,
   "metadata": {},
   "outputs": [
    {
     "data": {
      "text/plain": [
       "27"
      ]
     },
     "execution_count": 68,
     "metadata": {},
     "output_type": "execute_result"
    }
   ],
   "source": [
    "b.root.data"
   ]
  },
  {
   "cell_type": "code",
   "execution_count": 69,
   "metadata": {},
   "outputs": [],
   "source": [
    "b = BinaryTree()\n",
    "b.add(27)\n",
    "b.add(14)\n",
    "b.add(35)\n",
    "b.add(10)\n",
    "b.add(19)\n",
    "b.add(31)\n",
    "b.add(42)"
   ]
  },
  {
   "cell_type": "code",
   "execution_count": 70,
   "metadata": {},
   "outputs": [
    {
     "data": {
      "text/plain": [
       "[10, 14, 19, 27, 31, 35, 42]"
      ]
     },
     "execution_count": 70,
     "metadata": {},
     "output_type": "execute_result"
    }
   ],
   "source": [
    "b.in_ot(b.root)"
   ]
  },
  {
   "cell_type": "code",
   "execution_count": 71,
   "metadata": {},
   "outputs": [
    {
     "data": {
      "text/plain": [
       "[27, 14, 10, 19, 35, 31, 42]"
      ]
     },
     "execution_count": 71,
     "metadata": {},
     "output_type": "execute_result"
    }
   ],
   "source": [
    "b.pre_ot(b.root)"
   ]
  },
  {
   "cell_type": "code",
   "execution_count": 72,
   "metadata": {},
   "outputs": [
    {
     "data": {
      "text/plain": [
       "[10, 19, 14, 31, 42, 35, 27]"
      ]
     },
     "execution_count": 72,
     "metadata": {},
     "output_type": "execute_result"
    }
   ],
   "source": [
    "b.post_ot(b.root)"
   ]
  },
  {
   "cell_type": "code",
   "execution_count": null,
   "metadata": {},
   "outputs": [],
   "source": []
  }
 ],
 "metadata": {
  "kernelspec": {
   "display_name": "Python 3",
   "language": "python",
   "name": "python3"
  },
  "language_info": {
   "codemirror_mode": {
    "name": "ipython",
    "version": 3
   },
   "file_extension": ".py",
   "mimetype": "text/x-python",
   "name": "python",
   "nbconvert_exporter": "python",
   "pygments_lexer": "ipython3",
   "version": "3.8.5"
  }
 },
 "nbformat": 4,
 "nbformat_minor": 4
}
